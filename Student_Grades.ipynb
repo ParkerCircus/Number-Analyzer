{
  "nbformat": 4,
  "nbformat_minor": 0,
  "metadata": {
    "colab": {
      "provenance": [],
      "authorship_tag": "ABX9TyNGvsUIOOAmNG0fJ7aHs4B/",
      "include_colab_link": true
    },
    "kernelspec": {
      "name": "python3",
      "display_name": "Python 3"
    },
    "language_info": {
      "name": "python"
    }
  },
  "cells": [
    {
      "cell_type": "markdown",
      "metadata": {
        "id": "view-in-github",
        "colab_type": "text"
      },
      "source": [
        "<a href=\"https://colab.research.google.com/github/ParkerCircus/Number-Analyzer/blob/Data-Analytics/Student_Grades.ipynb\" target=\"_parent\"><img src=\"https://colab.research.google.com/assets/colab-badge.svg\" alt=\"Open In Colab\"/></a>"
      ]
    },
    {
      "cell_type": "code",
      "execution_count": 1,
      "metadata": {
        "id": "b8kN1XRyLuQ5"
      },
      "outputs": [],
      "source": [
        "import pandas as pd\n",
        "import numpy as np\n",
        "import statistics as stat"
      ]
    },
    {
      "cell_type": "code",
      "source": [
        "math = [11, 12, 11, 7, 9.5, 15, 18]\n",
        "science = [9, 11, 18, 15.5, 12, 18.5, 15.5]\n",
        "reading = [16, 8.5, 11.5, 11, 10.5, 7, 11]\n",
        "history = [13.5, 10, 9, 14, 14, 12, 7.5]"
      ],
      "metadata": {
        "id": "TAuku3zQMHIu"
      },
      "execution_count": 2,
      "outputs": []
    },
    {
      "cell_type": "code",
      "source": [
        "print(np.mean(math), np.mean(science), np.mean(reading), np.mean(history))"
      ],
      "metadata": {
        "colab": {
          "base_uri": "https://localhost:8080/"
        },
        "id": "NHPY4A23NOst",
        "outputId": "757acadc-d056-443d-fce7-624e52d93692"
      },
      "execution_count": 3,
      "outputs": [
        {
          "output_type": "stream",
          "name": "stdout",
          "text": [
            "11.928571428571429 14.214285714285714 10.785714285714286 11.428571428571429\n"
          ]
        }
      ]
    },
    {
      "cell_type": "code",
      "source": [
        "np.median(math)"
      ],
      "metadata": {
        "colab": {
          "base_uri": "https://localhost:8080/"
        },
        "id": "0-2gMoZGOgHL",
        "outputId": "f196a363-fc20-473b-c702-c29d598534be"
      },
      "execution_count": 4,
      "outputs": [
        {
          "output_type": "execute_result",
          "data": {
            "text/plain": [
              "11.0"
            ]
          },
          "metadata": {},
          "execution_count": 4
        }
      ]
    },
    {
      "cell_type": "code",
      "source": [
        "stat.mode(history)"
      ],
      "metadata": {
        "colab": {
          "base_uri": "https://localhost:8080/"
        },
        "id": "IYoVbUwqOkA7",
        "outputId": "82f374f8-8d52-4ed1-96cf-41c88dc24bbf"
      },
      "execution_count": 5,
      "outputs": [
        {
          "output_type": "execute_result",
          "data": {
            "text/plain": [
              "14"
            ]
          },
          "metadata": {},
          "execution_count": 5
        }
      ]
    },
    {
      "cell_type": "code",
      "source": [
        "print(stat.correlation(math, science), stat.correlation(math, reading), stat.correlation(math, history))\n",
        "print(stat.correlation(science, reading), stat.correlation(science, history), stat.correlation(reading, history))"
      ],
      "metadata": {
        "colab": {
          "base_uri": "https://localhost:8080/"
        },
        "id": "g34XrxhMOmBT",
        "outputId": "a23f4855-fba0-47bc-f7e7-2bfb3237d226"
      },
      "execution_count": 6,
      "outputs": [
        {
          "output_type": "stream",
          "name": "stdout",
          "text": [
            "0.2694940962141907 -0.2685618890579738 -0.7183583464149537\n",
            "-0.5276058297032529 -0.358688155652953 0.2067940426483234\n"
          ]
        }
      ]
    },
    {
      "cell_type": "markdown",
      "source": [
        "Math and history have the strongest correlation of ~ -0.718"
      ],
      "metadata": {
        "id": "vWUQh2cNhB73"
      }
    },
    {
      "cell_type": "code",
      "source": [
        "test_results = [24, 5, 15, 60, 54, 82, 99, 80, 70, 98, 93, 60, 33, 22, 65, 61, 51, 58, 83, 86, 42, 67, 60]"
      ],
      "metadata": {
        "id": "8_75SSn9jfpc"
      },
      "execution_count": 33,
      "outputs": []
    },
    {
      "cell_type": "code",
      "source": [
        "def desc_stats():\n",
        "  print(f\"Mean: {np.mean(test_results)} Median: {np.median(test_results)} Mode: {stat.mode(test_results)} \"\n",
        "  f\"Minimum: {min(test_results)} Maximum: {max(test_results)} Range: {max(test_results) - min(test_results)} \"\n",
        "  f\"Variance: {stat.variance(test_results)} Standard deviation: {stat.stdev(test_results)})\")"
      ],
      "metadata": {
        "id": "Xyb9DIWdhN9v"
      },
      "execution_count": 46,
      "outputs": []
    },
    {
      "cell_type": "code",
      "source": [
        "desc_stats()"
      ],
      "metadata": {
        "colab": {
          "base_uri": "https://localhost:8080/"
        },
        "id": "qfcxyQ4djmID",
        "outputId": "903ea106-c103-431a-f28d-9ff0e3738dbb"
      },
      "execution_count": 47,
      "outputs": [
        {
          "output_type": "stream",
          "name": "stdout",
          "text": [
            "Mean: 59.47826086956522 Median: 60.0 Mode: 60 Minimum: 5 Maximum: 99 Range: 94 Variance: 694.3517786561265 Standard deviation: 26.350555566365703)\n"
          ]
        }
      ]
    },
    {
      "cell_type": "markdown",
      "source": [
        "I would not curve the grades. With a median of 60, half the class had a 60 or worse, which is not passing. With a high standard deviation of over 26, this means the test scores were spread out by over two letter grades if selecting a random score out of the data set. This shows a high degree of failure on the test, but also indicates several students did very well showing the test was not mistakeningly over difficult."
      ],
      "metadata": {
        "id": "CrQ4ltRetTmv"
      }
    }
  ]
}